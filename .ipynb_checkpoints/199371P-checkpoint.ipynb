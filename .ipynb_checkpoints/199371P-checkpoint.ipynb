{
 "cells": [
  {
   "cell_type": "markdown",
   "metadata": {},
   "source": [
    "### Original data set is read and records with missing values are dropped"
   ]
  },
  {
   "cell_type": "code",
   "execution_count": 302,
   "metadata": {},
   "outputs": [
    {
     "name": "stdout",
     "output_type": "stream",
     "text": [
      "Original data with missing values shape= (698, 11)\n"
     ]
    }
   ],
   "source": [
    "import pandas as pd\n",
    "import numpy as np\n",
    "\n",
    "data = pd.read_csv(r'data/breast-cancer-wisconsin.data.txt')\n",
    "\n",
    "print(\"Original data with missing values shape=\", data.shape)"
   ]
  },
  {
   "cell_type": "markdown",
   "metadata": {},
   "source": [
    "### Data set is split to test and training and saved as csv files"
   ]
  },
  {
   "cell_type": "code",
   "execution_count": 303,
   "metadata": {},
   "outputs": [
    {
     "name": "stdout",
     "output_type": "stream",
     "text": [
      "(244, 11)\n",
      "(454, 11)\n"
     ]
    }
   ],
   "source": [
    "from sklearn.model_selection import train_test_split\n",
    "\n",
    "test_size = 244/(455+244)\n",
    "train_data, test_data = train_test_split(data, test_size=test_size)\n",
    "\n",
    "print(test_data.shape)\n",
    "print(train_data.shape)\n",
    "\n",
    "train_data = train_data.replace(to_replace='?', value=np.nan)\n",
    "train_data = train_data.dropna(axis='index')"
   ]
  },
  {
   "cell_type": "code",
   "execution_count": 304,
   "metadata": {
    "scrolled": true
   },
   "outputs": [],
   "source": [
    "train_data.to_csv(r'data/breast-cancer-wisconsin-nullDropped_train.csv', index = None, header=False)\n",
    "test_data.to_csv(r'data/breast-cancer-wisconsin-nullDropped_test.csv', index = None, header=False)"
   ]
  },
  {
   "cell_type": "markdown",
   "metadata": {},
   "source": [
    "### Importing C4.5 implementation library and load above preprocessed data set"
   ]
  },
  {
   "cell_type": "code",
   "execution_count": 305,
   "metadata": {},
   "outputs": [],
   "source": [
    "from implementation import loadCSV, growDecisionTreeFrom, classify, plot, entropy, prune\n",
    "\n",
    "trainingData = loadCSV('data/breast-cancer-wisconsin-nullDropped_train.csv')"
   ]
  },
  {
   "cell_type": "markdown",
   "metadata": {},
   "source": [
    "### Grow the decision tree from the training data using entropy as the evaluation function and plot tree"
   ]
  },
  {
   "cell_type": "code",
   "execution_count": 306,
   "metadata": {},
   "outputs": [
    {
     "name": "stdout",
     "output_type": "stream",
     "text": [
      "Column 2: x >= 3?\n",
      "yes -> Column 2: x >= 4?\n",
      "\t\tyes -> Column 0: x >= 730881?\n",
      "\t\t\t\tyes -> {4: 104}\n",
      "\t\t\t\tno  -> Column 0: x >= 721482?\n",
      "\t\t\t\t\t\tyes -> {2: 1}\n",
      "\t\t\t\t\t\tno  -> Column 4: x >= 2?\n",
      "\t\t\t\t\t\t\t\tyes -> {4: 27}\n",
      "\t\t\t\t\t\t\t\tno  -> Column 1: x >= 8?\n",
      "\t\t\t\t\t\t\t\t\t\tyes -> {4: 3}\n",
      "\t\t\t\t\t\t\t\t\t\tno  -> {2: 1}\n",
      "\t\tno  -> Column 6: x >= 3?\n",
      "\t\t\t\tyes -> Column 8: x >= 5?\n",
      "\t\t\t\t\t\tyes -> Column 3: x >= 5?\n",
      "\t\t\t\t\t\t\t\tyes -> {4: 5}\n",
      "\t\t\t\t\t\t\t\tno  -> Column 0: x >= 1239232?\n",
      "\t\t\t\t\t\t\t\t\t\tyes -> {2: 1}\n",
      "\t\t\t\t\t\t\t\t\t\tno  -> Column 0: x >= 1118039?\n",
      "\t\t\t\t\t\t\t\t\t\t\t\tyes -> {4: 2}\n",
      "\t\t\t\t\t\t\t\t\t\t\t\tno  -> {2: 1}\n",
      "\t\t\t\t\t\tno  -> {4: 10}\n",
      "\t\t\t\tno  -> Column 5: x >= 5?\n",
      "\t\t\t\t\t\tyes -> {4: 1}\n",
      "\t\t\t\t\t\tno  -> {2: 17}\n",
      "no  -> Column 1: x >= 7?\n",
      "\t\tyes -> {4: 5}\n",
      "\t\tno  -> Column 7: x >= 7?\n",
      "\t\t\t\tyes -> {4: 1}\n",
      "\t\t\t\tno  -> {2: 264}\n"
     ]
    }
   ],
   "source": [
    "decisionTree = growDecisionTreeFrom(trainingData, evaluationFunction=entropy)\n",
    "plot(decisionTree)"
   ]
  },
  {
   "cell_type": "markdown",
   "metadata": {},
   "source": [
    "### Collect the predictions from the decision tree for each of the test data features split above"
   ]
  },
  {
   "cell_type": "code",
   "execution_count": 307,
   "metadata": {},
   "outputs": [],
   "source": [
    "predictions = []\n",
    "\n",
    "for index, row in test_data.iloc[:,:-1].iterrows():\n",
    "    a = classify(list(row), decisionTree, dataMissing=True)\n",
    "    \n",
    "    listOfItems = a.items()\n",
    "    \n",
    "    for item  in listOfItems:\n",
    "        predictions.append(item[0])\n",
    "        break"
   ]
  },
  {
   "cell_type": "markdown",
   "metadata": {},
   "source": [
    "### Extract actual class lables from test data"
   ]
  },
  {
   "cell_type": "code",
   "execution_count": 308,
   "metadata": {},
   "outputs": [
    {
     "name": "stdout",
     "output_type": "stream",
     "text": [
      "244\n",
      "[2, 2, 2, 4, 2, 4, 4, 2, 2, 2, 2, 4, 4, 2, 2, 4, 4, 2, 4, 2, 4, 4, 4, 2, 4, 2, 4, 2, 4, 2, 2, 2, 2, 2, 4, 4, 2, 2, 2, 4, 2, 2, 2, 2, 2, 4, 2, 4, 2, 4, 2, 2, 4, 4, 2, 2, 4, 2, 2, 2, 4, 4, 2, 2, 2, 2, 2, 4, 2, 2, 2, 2, 2, 2, 2, 4, 2, 4, 4, 4, 2, 2, 4, 4, 2, 2, 4, 4, 2, 2, 4, 4, 4, 2, 4, 2, 4, 2, 2, 2, 2, 2, 2, 2, 4, 2, 4, 2, 4, 2, 2, 4, 4, 4, 4, 2, 4, 2, 4, 4, 2, 2, 2, 2, 2, 4, 2, 2, 2, 4, 2, 2, 2, 4, 4, 2, 4, 4, 2, 2, 4, 4, 2, 4, 2, 4, 2, 2, 2, 2, 2, 4, 2, 2, 2, 4, 2, 2, 2, 2, 2, 4, 4, 2, 4, 2, 4, 2, 2, 2, 4, 2, 2, 4, 2, 4, 2, 4, 2, 2, 2, 2, 4, 4, 2, 2, 4, 2, 2, 2, 2, 2, 4, 2, 2, 2, 2, 4, 2, 2, 4, 4, 4, 2, 2, 2, 4, 4, 2, 2, 2, 2, 4, 2, 4, 2, 2, 2, 2, 2, 2, 2, 2, 4, 4, 2, 2, 2, 2, 2, 4, 2, 4, 2, 2, 4, 4, 2, 2, 4, 4, 2, 2, 4]\n"
     ]
    }
   ],
   "source": [
    "print(len(predictions))\n",
    "print(predictions)"
   ]
  },
  {
   "cell_type": "code",
   "execution_count": 309,
   "metadata": {},
   "outputs": [
    {
     "data": {
      "text/plain": [
       "(244,)"
      ]
     },
     "execution_count": 309,
     "metadata": {},
     "output_type": "execute_result"
    }
   ],
   "source": [
    "actual_class = test_data.iloc[:,-1]\n",
    "actual_class.shape"
   ]
  },
  {
   "cell_type": "markdown",
   "metadata": {},
   "source": [
    "### Classification report is generated to cross check the precision, recall, f1 score and support of predictions"
   ]
  },
  {
   "cell_type": "code",
   "execution_count": 310,
   "metadata": {},
   "outputs": [
    {
     "name": "stdout",
     "output_type": "stream",
     "text": [
      "              precision    recall  f1-score   support\n",
      "\n",
      "      benign       0.95      0.90      0.92       162\n",
      "   malignant       0.82      0.90      0.86        82\n",
      "\n",
      "   micro avg       0.90      0.90      0.90       244\n",
      "   macro avg       0.89      0.90      0.89       244\n",
      "weighted avg       0.91      0.90      0.90       244\n",
      "\n"
     ]
    }
   ],
   "source": [
    "from sklearn.metrics import classification_report\n",
    "from sklearn.metrics import confusion_matrix, accuracy_score\n",
    "\n",
    "print(classification_report(actual_class, predictions, target_names=['benign','malignant']))"
   ]
  },
  {
   "cell_type": "markdown",
   "metadata": {},
   "source": [
    "### Confusion matrix and accuracy of the model is calculated"
   ]
  },
  {
   "cell_type": "code",
   "execution_count": 311,
   "metadata": {},
   "outputs": [
    {
     "name": "stdout",
     "output_type": "stream",
     "text": [
      "Confusion matrix = True positives: 74 , true negatives: 146 , false positives: 16 , false negatives: 8\n",
      "Accuracy sroce of the model = 0.9016393442622951\n"
     ]
    }
   ],
   "source": [
    "tn, fp, fn, tp = confusion_matrix(actual_class, predictions).ravel()\n",
    "print(\"Confusion matrix = True positives:\", tp, \", true negatives:\", tn, \", false positives:\", fp, \", false negatives:\", fn)\n",
    "\n",
    "print(\"Accuracy sroce of the model =\", accuracy_score(actual_class, predictions, normalize=True))"
   ]
  },
  {
   "cell_type": "markdown",
   "metadata": {},
   "source": [
    "### Same process is followed by introducing tree pruning with minimal gain 0.2"
   ]
  },
  {
   "cell_type": "code",
   "execution_count": 312,
   "metadata": {},
   "outputs": [
    {
     "name": "stdout",
     "output_type": "stream",
     "text": [
      "Column 2: x >= 3?\n",
      "yes -> Column 2: x >= 4?\n",
      "\t\tyes -> Column 0: x >= 730881?\n",
      "\t\t\t\tyes -> {4: 104}\n",
      "\t\t\t\tno  -> Column 0: x >= 721482?\n",
      "\t\t\t\t\t\tyes -> {2: 1}\n",
      "\t\t\t\t\t\tno  -> Column 4: x >= 2?\n",
      "\t\t\t\t\t\t\t\tyes -> {4: 27}\n",
      "\t\t\t\t\t\t\t\tno  -> Column 1: x >= 8?\n",
      "\t\t\t\t\t\t\t\t\t\tyes -> {4: 3}\n",
      "\t\t\t\t\t\t\t\t\t\tno  -> {2: 1}\n",
      "\t\tno  -> Column 6: x >= 3?\n",
      "\t\t\t\tyes -> Column 8: x >= 5?\n",
      "\t\t\t\t\t\tyes -> Column 3: x >= 5?\n",
      "\t\t\t\t\t\t\t\tyes -> {4: 5}\n",
      "\t\t\t\t\t\t\t\tno  -> Column 0: x >= 1239232?\n",
      "\t\t\t\t\t\t\t\t\t\tyes -> {2: 1}\n",
      "\t\t\t\t\t\t\t\t\t\tno  -> Column 0: x >= 1118039?\n",
      "\t\t\t\t\t\t\t\t\t\t\t\tyes -> {4: 2}\n",
      "\t\t\t\t\t\t\t\t\t\t\t\tno  -> {2: 1}\n",
      "\t\t\t\t\t\tno  -> {4: 10}\n",
      "\t\t\t\tno  -> Column 5: x >= 5?\n",
      "\t\t\t\t\t\tyes -> {4: 1}\n",
      "\t\t\t\t\t\tno  -> {2: 17}\n",
      "no  -> {4: 6, 2: 264}\n"
     ]
    }
   ],
   "source": [
    "prune(decisionTree, 0.2, evaluationFunction=entropy)\n",
    "plot(decisionTree)"
   ]
  },
  {
   "cell_type": "code",
   "execution_count": 313,
   "metadata": {},
   "outputs": [],
   "source": [
    "predictions = []\n",
    "\n",
    "for index, row in test_data.iloc[:,:-1].iterrows():\n",
    "    a = classify(list(row), decisionTree, dataMissing=True)\n",
    "    \n",
    "    listOfItems = a.items()\n",
    "    \n",
    "    for item  in listOfItems:\n",
    "        predictions.append(item[0])\n",
    "        break"
   ]
  },
  {
   "cell_type": "code",
   "execution_count": 314,
   "metadata": {},
   "outputs": [
    {
     "name": "stdout",
     "output_type": "stream",
     "text": [
      "244\n",
      "[4, 4, 2, 4, 4, 4, 4, 4, 4, 4, 4, 4, 4, 4, 4, 4, 4, 4, 4, 4, 4, 4, 4, 4, 4, 4, 4, 4, 4, 4, 4, 2, 4, 4, 4, 4, 4, 4, 4, 4, 4, 4, 4, 4, 4, 4, 4, 4, 4, 4, 4, 4, 4, 4, 4, 4, 4, 4, 4, 4, 4, 4, 4, 2, 2, 4, 4, 4, 4, 2, 4, 4, 4, 4, 4, 4, 4, 4, 4, 4, 4, 4, 4, 4, 4, 4, 4, 4, 4, 4, 4, 4, 4, 4, 4, 4, 4, 4, 4, 4, 4, 4, 2, 4, 4, 4, 4, 4, 4, 4, 4, 4, 4, 4, 4, 4, 4, 4, 4, 4, 2, 4, 4, 4, 4, 4, 4, 4, 4, 4, 4, 4, 4, 4, 4, 4, 4, 4, 4, 4, 4, 4, 4, 4, 4, 4, 4, 4, 2, 4, 4, 4, 4, 4, 4, 4, 4, 2, 4, 4, 4, 4, 4, 4, 4, 4, 4, 4, 4, 4, 4, 4, 4, 4, 4, 4, 4, 4, 4, 4, 4, 4, 4, 4, 4, 4, 4, 4, 4, 4, 4, 4, 4, 4, 4, 4, 4, 4, 4, 4, 4, 4, 4, 4, 4, 4, 4, 4, 2, 4, 4, 4, 4, 4, 4, 4, 4, 4, 4, 2, 4, 4, 4, 4, 4, 4, 4, 4, 4, 4, 4, 4, 4, 4, 4, 4, 4, 4, 4, 4, 4, 4, 4, 4]\n"
     ]
    }
   ],
   "source": [
    "print(len(predictions))\n",
    "print(predictions)"
   ]
  },
  {
   "cell_type": "code",
   "execution_count": 315,
   "metadata": {},
   "outputs": [
    {
     "data": {
      "text/plain": [
       "(244,)"
      ]
     },
     "execution_count": 315,
     "metadata": {},
     "output_type": "execute_result"
    }
   ],
   "source": [
    "actual_class = test_data.iloc[:,-1]\n",
    "actual_class.shape"
   ]
  },
  {
   "cell_type": "code",
   "execution_count": 316,
   "metadata": {},
   "outputs": [
    {
     "name": "stdout",
     "output_type": "stream",
     "text": [
      "              precision    recall  f1-score   support\n",
      "\n",
      "      benign       0.64      0.04      0.08       162\n",
      "   malignant       0.33      0.95      0.50        82\n",
      "\n",
      "   micro avg       0.35      0.35      0.35       244\n",
      "   macro avg       0.49      0.50      0.29       244\n",
      "weighted avg       0.54      0.35      0.22       244\n",
      "\n"
     ]
    }
   ],
   "source": [
    "print(classification_report(actual_class, predictions, target_names=['benign','malignant']))"
   ]
  },
  {
   "cell_type": "code",
   "execution_count": 317,
   "metadata": {},
   "outputs": [
    {
     "name": "stdout",
     "output_type": "stream",
     "text": [
      "Confusion matrix = True positives: 78 , true negatives: 7 , false positives: 155 , false negatives: 4\n",
      "Accuracy score of the model = 0.3483606557377049\n"
     ]
    }
   ],
   "source": [
    "tn, fp, fn, tp = confusion_matrix(actual_class, predictions).ravel()\n",
    "print(\"Confusion matrix = True positives:\", tp, \", true negatives:\", tn, \", false positives:\", fp, \", false negatives:\", fn)\n",
    "\n",
    "print(\"Accuracy score of the model =\", accuracy_score(actual_class, predictions, normalize=True))"
   ]
  },
  {
   "cell_type": "raw",
   "metadata": {},
   "source": [
    "In this case it can be seen that the precision has been reduced when the decision tree is pruned"
   ]
  }
 ],
 "metadata": {
  "kernelspec": {
   "display_name": "Python 3",
   "language": "python",
   "name": "python3"
  },
  "language_info": {
   "codemirror_mode": {
    "name": "ipython",
    "version": 3
   },
   "file_extension": ".py",
   "mimetype": "text/x-python",
   "name": "python",
   "nbconvert_exporter": "python",
   "pygments_lexer": "ipython3",
   "version": "3.7.1"
  }
 },
 "nbformat": 4,
 "nbformat_minor": 2
}
